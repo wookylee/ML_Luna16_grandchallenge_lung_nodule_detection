{
  "nbformat": 4,
  "nbformat_minor": 0,
  "metadata": {
    "colab": {
      "name": "assignment2_evaluation_2016320145.ipynb",
      "provenance": [],
      "collapsed_sections": []
    },
    "kernelspec": {
      "name": "python3",
      "display_name": "Python 3"
    },
    "accelerator": "GPU"
  },
  "cells": [
    {
      "cell_type": "markdown",
      "metadata": {
        "id": "NgKDr1L2SkwW"
      },
      "source": [
        "#Name: 이운규\n",
        " \n",
        "#ID: 2016320145\n",
        " \n",
        "Link to your assignment 2 Colab: https://colab.research.google.com/drive/1pfwURA7_x7pzVM_FaODLueFK5A3JApeW?usp=sharing\n",
        " \n",
        "Link to your evaluation script: https://drive.google.com/file/d/1wXUyKollYD26wzZ4BA4kQ7CQCs6nK63_/view?usp=sharing\n",
        " \n",
        "These links should be shared to the web without any permission"
      ]
    },
    {
      "cell_type": "code",
      "metadata": {
        "id": "j6jI4LX2TDS_",
        "colab": {
          "base_uri": "https://localhost:8080/"
        },
        "outputId": "cab5ff34-0bf5-44cd-9d20-c0207cb00d71"
      },
      "source": [
        "# Edit the paths if neccessary\n",
        "\n",
        "from google.colab import drive\n",
        "\n",
        "\n",
        "drive.mount('/content/drive/')\n",
        "\n",
        "evaluation_data_path = ## 'PLEASE ENTER THE EVALUATOIN PATH HERE' ##\n",
        "weight_path = '/content/drive/My Drive/뇌및머신러닝/nodule_detection.h5'"
      ],
      "execution_count": null,
      "outputs": [
        {
          "output_type": "stream",
          "text": [
            "Mounted at /content/drive/\n"
          ],
          "name": "stdout"
        }
      ]
    },
    {
      "cell_type": "markdown",
      "metadata": {
        "id": "O1EniWt79ikB"
      },
      "source": [
        "# Caution\n",
        "\n",
        "This code is only for model loading and evaluation.\n",
        "\n",
        "Don't include code for training your model here.\n",
        "\n",
        "We may terminate codes with very long execution time (i.e. 0 points) due to model training. "
      ]
    },
    {
      "cell_type": "markdown",
      "metadata": {
        "id": "Uu5PnMgz5oVi"
      },
      "source": [
        "# Load Best Model\n",
        "\n",
        "Write your own model load function (including preprocessing, etc.).\n",
        "\n",
        "This function will be used in the below evaluation script.\n",
        "\n",
        "However, it should have the same structure as the below template (i.e. the name of the function, input arguments, output variables should be same).\n",
        "\n",
        "Scikit-learn Example: https://scikit-learn.org/stable/modules/model_persistence.html\n",
        "\n",
        "Tensorflow Example: https://www.tensorflow.org/tutorials/keras/save_and_load\n",
        "\n",
        "PyTorch Example: https://pytorch.org/tutorials/beginner/saving_loading_models.html"
      ]
    },
    {
      "cell_type": "code",
      "metadata": {
        "id": "nCLIgD_a455y",
        "colab": {
          "base_uri": "https://localhost:8080/"
        },
        "outputId": "56983513-b8a3-4def-83b1-5df03a320007"
      },
      "source": [
        "from tensorflow import keras\n",
        "import tensorflow as tf\n",
        "\n",
        "model = keras.models.load_model(weight_path) \n",
        "\n",
        "model.summary()\n",
        "\n",
        "def load_best_classifier():\n",
        "    models = model\n",
        "    \n",
        "    # Write your load function for classifier model here\n",
        "    # model = \n",
        "\n",
        "    return models"
      ],
      "execution_count": null,
      "outputs": [
        {
          "output_type": "stream",
          "text": [
            "Model: \"sequential\"\n",
            "_________________________________________________________________\n",
            "Layer (type)                 Output Shape              Param #   \n",
            "=================================================================\n",
            "conv3d (Conv3D)              (None, 31, 31, 15, 16)    144       \n",
            "_________________________________________________________________\n",
            "batch_normalization (BatchNo (None, 31, 31, 15, 16)    64        \n",
            "_________________________________________________________________\n",
            "max_pooling3d (MaxPooling3D) (None, 15, 15, 7, 16)     0         \n",
            "_________________________________________________________________\n",
            "dropout (Dropout)            (None, 15, 15, 7, 16)     0         \n",
            "_________________________________________________________________\n",
            "conv3d_1 (Conv3D)            (None, 14, 14, 6, 32)     4128      \n",
            "_________________________________________________________________\n",
            "batch_normalization_1 (Batch (None, 14, 14, 6, 32)     128       \n",
            "_________________________________________________________________\n",
            "max_pooling3d_1 (MaxPooling3 (None, 7, 7, 3, 32)       0         \n",
            "_________________________________________________________________\n",
            "dropout_1 (Dropout)          (None, 7, 7, 3, 32)       0         \n",
            "_________________________________________________________________\n",
            "conv3d_2 (Conv3D)            (None, 6, 6, 2, 64)       16448     \n",
            "_________________________________________________________________\n",
            "batch_normalization_2 (Batch (None, 6, 6, 2, 64)       256       \n",
            "_________________________________________________________________\n",
            "max_pooling3d_2 (MaxPooling3 (None, 3, 3, 1, 64)       0         \n",
            "_________________________________________________________________\n",
            "dropout_2 (Dropout)          (None, 3, 3, 1, 64)       0         \n",
            "_________________________________________________________________\n",
            "flatten (Flatten)            (None, 576)               0         \n",
            "_________________________________________________________________\n",
            "dense (Dense)                (None, 576)               332352    \n",
            "_________________________________________________________________\n",
            "batch_normalization_3 (Batch (None, 576)               2304      \n",
            "_________________________________________________________________\n",
            "dropout_3 (Dropout)          (None, 576)               0         \n",
            "_________________________________________________________________\n",
            "dense_1 (Dense)              (None, 1)                 577       \n",
            "=================================================================\n",
            "Total params: 356,401\n",
            "Trainable params: 355,025\n",
            "Non-trainable params: 1,376\n",
            "_________________________________________________________________\n"
          ],
          "name": "stdout"
        }
      ]
    },
    {
      "cell_type": "markdown",
      "metadata": {
        "id": "uftEXcwzUxO6"
      },
      "source": [
        "# Evaluation Function\n",
        "\n",
        "Write your own evaluation function.\n",
        "\n",
        "This function will be used in the below evaluation script.\n",
        "\n",
        "However, it should have the same structure as the below template (i.e. the name of the function, input arguments, output variables should be same).\n",
        "\n",
        "Note: Missing data is converted to `nan`"
      ]
    },
    {
      "cell_type": "code",
      "metadata": {
        "id": "ZSl5k89KTm9b"
      },
      "source": [
        "def read_npy_and_classify(eval_data, model):\n",
        "    #model_output = np.zeros(shape=len(eval_data), dtype=np.uint8)\n",
        "\n",
        "    # Write your evaluation script here\n",
        "    \n",
        "    eval_data = tf.expand_dims(eval_data, axis=4)\n",
        "    model_output = np.zeros(shape=len(eval_data), dtype=np.uint8)\n",
        "    model_output = model.predict(eval_data)\n",
        "    model_output = np.around(model_output)\n",
        "    model_output = model_output.reshape((len(eval_data),),)\n",
        "    model_output = model_output.astype(np.uint8)\n",
        "\n",
        "    return model_output # Should be a numpy array with shape=(len(eval_data),) and data type=np.uint8"
      ],
      "execution_count": null,
      "outputs": []
    },
    {
      "cell_type": "markdown",
      "metadata": {
        "id": "__Wj51czS1ad"
      },
      "source": [
        "# Evaluation Script: DO NOT EDIT FROM THIS POINT\n",
        " \n",
        "The below code should run as-is (otherwise your evaluation score may be considered as 0).\n",
        " \n",
        "Instructions\n",
        " \n",
        "1. Upload \"sample_evaluation_data.npy\" to `data_path`\n",
        "1. Write your evaluation functions\n",
        "1. Run the below code to get your evaluation scores\n",
        " \n",
        "Note: Missing data is converted to `nan`"
      ]
    },
    {
      "cell_type": "code",
      "metadata": {
        "id": "q-LO19reTXFj",
        "colab": {
          "base_uri": "https://localhost:8080/"
        },
        "outputId": "3b6415d5-8f9e-4182-9bab-307e10452bbd"
      },
      "source": [
        "import os\n",
        "import numpy as np\n",
        "from google.colab import files\n",
        "import numpy as np\n",
        " \n",
        "# Load Data\n",
        "eval_data = np.load(evaluation_data_path)\n",
        " \n",
        "# Load Weights\n",
        "best_classification_model = load_best_classifier()\n",
        " \n",
        "# Get model output\n",
        "model_output = read_npy_and_classify(eval_data, best_classification_model)\n",
        "\n",
        "# Check model output\n",
        "assert model_output.shape==(len(eval_data),), \"Classification score shape mismatch\" \n",
        "assert model_output.dtype==np.uint8, \"Classification score data type mismatch\"\n",
        "assert np.min(model_output)>=0., \"Classification score must be between (0, 1)\"\n",
        "assert np.max(model_output)<=1., \"Classification score must be between (0, 1)\"\n",
        " \n",
        "# Save and download model output numpy file\n",
        "np.save(evaluation_data_path.replace(\".npy\",\"_output.npy\"), model_output)\n",
        "files.download(evaluation_data_path.replace(\".npy\",\"_output.npy\"))"
      ],
      "execution_count": null,
      "outputs": [
        {
          "output_type": "stream",
          "text": [
            "[0 0 0 ... 1 1 1]\n",
            "2800\n"
          ],
          "name": "stdout"
        }
      ]
    }
  ]
}